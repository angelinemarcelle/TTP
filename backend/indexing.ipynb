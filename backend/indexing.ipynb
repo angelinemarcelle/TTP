{
 "cells": [
  {
   "cell_type": "markdown",
   "metadata": {},
   "source": [
    "# Indexing Process\n",
    "\n",
    "This notebooks is to index the documents to the vector database"
   ]
  },
  {
   "cell_type": "code",
   "execution_count": 4,
   "metadata": {},
   "outputs": [
    {
     "data": {
      "text/plain": [
       "True"
      ]
     },
     "execution_count": 4,
     "metadata": {},
     "output_type": "execute_result"
    }
   ],
   "source": [
    "from dotenv import load_dotenv \n",
    "\n",
    "load_dotenv() "
   ]
  },
  {
   "cell_type": "code",
   "execution_count": 16,
   "metadata": {},
   "outputs": [],
   "source": [
    "import chromadb\n",
    "\n",
    "chroma_client = chromadb.PersistentClient(path=\"chromadb\")"
   ]
  },
  {
   "cell_type": "code",
   "execution_count": 7,
   "metadata": {},
   "outputs": [],
   "source": [
    "import os\n",
    "from supabase import create_client, Client\n",
    "\n",
    "supabase_url = os.getenv(\"SUPABASE_URL\")\n",
    "supabase_key = os.getenv(\"SUPABASE_KEY\")\n",
    "supabase_client = create_client(supabase_url, supabase_key)"
   ]
  },
  {
   "cell_type": "markdown",
   "metadata": {},
   "source": [
    "## Article"
   ]
  },
  {
   "cell_type": "code",
   "execution_count": 26,
   "metadata": {},
   "outputs": [
    {
     "data": {
      "text/html": [
       "<div>\n",
       "<style scoped>\n",
       "    .dataframe tbody tr th:only-of-type {\n",
       "        vertical-align: middle;\n",
       "    }\n",
       "\n",
       "    .dataframe tbody tr th {\n",
       "        vertical-align: top;\n",
       "    }\n",
       "\n",
       "    .dataframe thead th {\n",
       "        text-align: right;\n",
       "    }\n",
       "</style>\n",
       "<table border=\"1\" class=\"dataframe\">\n",
       "  <thead>\n",
       "    <tr style=\"text-align: right;\">\n",
       "      <th></th>\n",
       "      <th>article_id</th>\n",
       "      <th>title</th>\n",
       "      <th>category</th>\n",
       "      <th>short_desc</th>\n",
       "      <th>created_date</th>\n",
       "      <th>author</th>\n",
       "      <th>body</th>\n",
       "    </tr>\n",
       "  </thead>\n",
       "  <tbody>\n",
       "    <tr>\n",
       "      <th>0</th>\n",
       "      <td>1</td>\n",
       "      <td>Mastering Productivity: A Beginner's Guide</td>\n",
       "      <td>Productivity</td>\n",
       "      <td>A beginner's guide to enhancing productivity b...</td>\n",
       "      <td>2024-05-12</td>\n",
       "      <td>None</td>\n",
       "      <td>In a world brimming with distractions and dema...</td>\n",
       "    </tr>\n",
       "    <tr>\n",
       "      <th>1</th>\n",
       "      <td>2</td>\n",
       "      <td>Balancing Work, Hobbies, and Family: The Ultim...</td>\n",
       "      <td>Work-Life Balance</td>\n",
       "      <td>Exploring practical strategies for achieving a...</td>\n",
       "      <td>2024-04-29</td>\n",
       "      <td>None</td>\n",
       "      <td>In the modern whirlwind of responsibilities, f...</td>\n",
       "    </tr>\n",
       "    <tr>\n",
       "      <th>2</th>\n",
       "      <td>4</td>\n",
       "      <td>The Art of Harmonizing Career, Personal Life, ...</td>\n",
       "      <td>Work-Life Balance</td>\n",
       "      <td>discusses techniques for balancing career, per...</td>\n",
       "      <td>2024-05-25</td>\n",
       "      <td>None</td>\n",
       "      <td>In the intricate tapestry of life, mastering t...</td>\n",
       "    </tr>\n",
       "    <tr>\n",
       "      <th>3</th>\n",
       "      <td>5</td>\n",
       "      <td>Achieving Peak Productivity: Essential Strateg...</td>\n",
       "      <td>Productivity</td>\n",
       "      <td>Strategies for boosting productivity, such as ...</td>\n",
       "      <td>2024-05-26</td>\n",
       "      <td>None</td>\n",
       "      <td>In today's fast-paced and competitive landscap...</td>\n",
       "    </tr>\n",
       "    <tr>\n",
       "      <th>4</th>\n",
       "      <td>3</td>\n",
       "      <td>Current Market Outlook for China: Finance and ...</td>\n",
       "      <td>Finance</td>\n",
       "      <td>China's finance and banking sectors in 2024 pr...</td>\n",
       "      <td>2024-05-25</td>\n",
       "      <td>Patricia Kim</td>\n",
       "      <td>As 2024 progresses, China's financial and bank...</td>\n",
       "    </tr>\n",
       "  </tbody>\n",
       "</table>\n",
       "</div>"
      ],
      "text/plain": [
       "   article_id                                              title  \\\n",
       "0           1         Mastering Productivity: A Beginner's Guide   \n",
       "1           2  Balancing Work, Hobbies, and Family: The Ultim...   \n",
       "2           4  The Art of Harmonizing Career, Personal Life, ...   \n",
       "3           5  Achieving Peak Productivity: Essential Strateg...   \n",
       "4           3  Current Market Outlook for China: Finance and ...   \n",
       "\n",
       "            category                                         short_desc  \\\n",
       "0       Productivity  A beginner's guide to enhancing productivity b...   \n",
       "1  Work-Life Balance  Exploring practical strategies for achieving a...   \n",
       "2  Work-Life Balance  discusses techniques for balancing career, per...   \n",
       "3       Productivity  Strategies for boosting productivity, such as ...   \n",
       "4            Finance  China's finance and banking sectors in 2024 pr...   \n",
       "\n",
       "  created_date        author  \\\n",
       "0   2024-05-12          None   \n",
       "1   2024-04-29          None   \n",
       "2   2024-05-25          None   \n",
       "3   2024-05-26          None   \n",
       "4   2024-05-25  Patricia Kim   \n",
       "\n",
       "                                                body  \n",
       "0  In a world brimming with distractions and dema...  \n",
       "1  In the modern whirlwind of responsibilities, f...  \n",
       "2  In the intricate tapestry of life, mastering t...  \n",
       "3  In today's fast-paced and competitive landscap...  \n",
       "4  As 2024 progresses, China's financial and bank...  "
      ]
     },
     "execution_count": 26,
     "metadata": {},
     "output_type": "execute_result"
    }
   ],
   "source": [
    "import pandas as pd\n",
    "\n",
    "articles = supabase_client.table(\"article\").select(\"*\").execute().model_dump()['data']\n",
    "df_article = pd.DataFrame(articles)\n",
    "df_article"
   ]
  },
  {
   "cell_type": "code",
   "execution_count": 18,
   "metadata": {},
   "outputs": [],
   "source": [
    "# Indexing to ChromaDB\n",
    "\n",
    "try:\n",
    "    article_collection = chroma_client.get_collection(\"article\")\n",
    "except:\n",
    "    article_collection = chroma_client.create_collection(\"article\")"
   ]
  },
  {
   "cell_type": "code",
   "execution_count": 29,
   "metadata": {},
   "outputs": [],
   "source": [
    "def create_article_sentence(article):\n",
    "    return f\"{article['title']}. {article['short_desc']}\""
   ]
  },
  {
   "cell_type": "code",
   "execution_count": 32,
   "metadata": {},
   "outputs": [],
   "source": [
    "article_collection.add(\n",
    "    ids=[str(article['article_id']) for article in articles],\n",
    "    documents=[create_article_sentence(article) for article in articles],\n",
    "    metadatas=[\n",
    "        {\n",
    "            \"category\": article['category'],\n",
    "            \"created_date\": article['created_date'],\n",
    "        } for article in articles        \n",
    "    ]\n",
    ")"
   ]
  }
 ],
 "metadata": {
  "kernelspec": {
   "display_name": "ubs",
   "language": "python",
   "name": "python3"
  },
  "language_info": {
   "codemirror_mode": {
    "name": "ipython",
    "version": 3
   },
   "file_extension": ".py",
   "mimetype": "text/x-python",
   "name": "python",
   "nbconvert_exporter": "python",
   "pygments_lexer": "ipython3",
   "version": "3.12.3"
  }
 },
 "nbformat": 4,
 "nbformat_minor": 2
}
