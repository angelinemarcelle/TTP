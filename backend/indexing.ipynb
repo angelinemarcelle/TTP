{
 "cells": [
  {
   "cell_type": "markdown",
   "metadata": {},
   "source": [
    "# Indexing Process\n",
    "\n",
    "This notebooks is to index the documents to the vector database"
   ]
  },
  {
   "cell_type": "code",
   "execution_count": 30,
   "metadata": {},
   "outputs": [
    {
     "data": {
      "text/plain": [
       "True"
      ]
     },
     "execution_count": 30,
     "metadata": {},
     "output_type": "execute_result"
    }
   ],
   "source": [
    "from dotenv import load_dotenv \n",
    "\n",
    "load_dotenv() "
   ]
  },
  {
   "cell_type": "code",
   "execution_count": 31,
   "metadata": {},
   "outputs": [],
   "source": [
    "import chromadb\n",
    "\n",
    "chroma_client = chromadb.PersistentClient(path=\"chromadb\")"
   ]
  },
  {
   "cell_type": "code",
   "execution_count": 32,
   "metadata": {},
   "outputs": [],
   "source": [
    "import os\n",
    "from supabase import create_client, Client\n",
    "\n",
    "supabase_url = os.getenv(\"SUPABASE_URL\")\n",
    "supabase_key = os.getenv(\"SUPABASE_KEY\")\n",
    "supabase_client = create_client(supabase_url, supabase_key)"
   ]
  },
  {
   "cell_type": "markdown",
   "metadata": {},
   "source": [
    "## Article"
   ]
  },
  {
   "cell_type": "code",
   "execution_count": null,
   "metadata": {},
   "outputs": [],
   "source": [
    "import pandas as pd\n",
    "\n",
    "articles = supabase_client.table(\"article\").select(\"*\").execute().model_dump()['data']\n",
    "df_article = pd.DataFrame(articles)\n",
    "df_article"
   ]
  },
  {
   "cell_type": "code",
   "execution_count": 18,
   "metadata": {},
   "outputs": [],
   "source": [
    "# Indexing to ChromaDB\n",
    "\n",
    "try:\n",
    "    article_collection = chroma_client.get_collection(\"article\")\n",
    "except:\n",
    "    article_collection = chroma_client.create_collection(\"article\")"
   ]
  },
  {
   "cell_type": "code",
   "execution_count": 19,
   "metadata": {},
   "outputs": [],
   "source": [
    "def create_article_sentence(article):\n",
    "    return f\"{article['title']}. {article['short_desc']}\""
   ]
  },
  {
   "cell_type": "code",
   "execution_count": 20,
   "metadata": {},
   "outputs": [],
   "source": [
    "article_collection.add(\n",
    "    ids=[str(article['article_id']) for article in articles],\n",
    "    documents=[create_article_sentence(article) for article in articles],\n",
    "    metadatas=[\n",
    "        {\n",
    "            \"category\": article['category'],\n",
    "            \"created_date\": article['created_date'],\n",
    "        } for article in articles        \n",
    "    ]\n",
    ")"
   ]
  },
  {
   "cell_type": "markdown",
   "metadata": {},
   "source": [
    "## Mentor"
   ]
  },
  {
   "cell_type": "code",
   "execution_count": null,
   "metadata": {},
   "outputs": [],
   "source": [
    "import pandas as pd\n",
    "\n",
    "mentors = supabase_client.table(\"mentor\").select(\"*\").execute().model_dump()['data']\n",
    "df_mentor = pd.DataFrame(mentors)\n",
    "df_mentor"
   ]
  },
  {
   "cell_type": "code",
   "execution_count": 34,
   "metadata": {},
   "outputs": [],
   "source": [
    "# Indexing to ChromaDB\n",
    "\n",
    "try:\n",
    "    mentor_collection = chroma_client.get_collection(\"mentor\")\n",
    "except:\n",
    "    mentor_collection = chroma_client.create_collection(\"mentor\")"
   ]
  },
  {
   "cell_type": "code",
   "execution_count": 35,
   "metadata": {},
   "outputs": [],
   "source": [
    "def create_mentor_sentence(mentor):\n",
    "    return f\"A mentor from {mentor['department']} department, working as a {mentor['position']} \" \\\n",
    "           f\"specializing in {mentor['specialization']}. {mentor['short_desc']}\""
   ]
  },
  {
   "cell_type": "code",
   "execution_count": 36,
   "metadata": {},
   "outputs": [
    {
     "data": {
      "text/plain": [
       "'A mentor from Finance department, working as a Financial Analyst specializing in Investment Analysis. Analyzes financial data and provides investment guidance.'"
      ]
     },
     "execution_count": 36,
     "metadata": {},
     "output_type": "execute_result"
    }
   ],
   "source": [
    "create_mentor_sentence(mentors[0])"
   ]
  },
  {
   "cell_type": "code",
   "execution_count": 37,
   "metadata": {},
   "outputs": [
    {
     "name": "stderr",
     "output_type": "stream",
     "text": [
      "Insert of existing embedding ID: 1\n",
      "Insert of existing embedding ID: 2\n",
      "Insert of existing embedding ID: 3\n",
      "Insert of existing embedding ID: 4\n",
      "Insert of existing embedding ID: 5\n",
      "Insert of existing embedding ID: 6\n",
      "Insert of existing embedding ID: 7\n",
      "Insert of existing embedding ID: 8\n",
      "Insert of existing embedding ID: 9\n",
      "Insert of existing embedding ID: 10\n",
      "Add of existing embedding ID: 1\n",
      "Add of existing embedding ID: 2\n",
      "Add of existing embedding ID: 3\n",
      "Add of existing embedding ID: 4\n",
      "Add of existing embedding ID: 5\n",
      "Add of existing embedding ID: 6\n",
      "Add of existing embedding ID: 7\n",
      "Add of existing embedding ID: 8\n",
      "Add of existing embedding ID: 9\n",
      "Add of existing embedding ID: 10\n"
     ]
    }
   ],
   "source": [
    "mentor_collection.add(\n",
    "    ids=[str(mentor['mentor_id']) for mentor in mentors],\n",
    "    documents=[create_mentor_sentence(mentor) for mentor in mentors],\n",
    "    metadatas=[\n",
    "        {\n",
    "            \"name\": mentor['name'],\n",
    "            \"department\": mentor['department'],\n",
    "            \"position\": mentor['position'],\n",
    "            \"short_desc\": mentor['short_desc'],\n",
    "            \"email\": mentor['email'],\n",
    "        } for mentor in mentors        \n",
    "    ]\n",
    ")"
   ]
  },
  {
   "cell_type": "code",
   "execution_count": 38,
   "metadata": {},
   "outputs": [
    {
     "data": {
      "text/plain": [
       "{'ids': [['1']],\n",
       " 'distances': [[0.0]],\n",
       " 'metadatas': [[{'department': 'Finance',\n",
       "    'email': 'john.doe@bank.com',\n",
       "    'name': 'John Doe',\n",
       "    'position': 'Financial Analyst',\n",
       "    'short_desc': 'Analyzes financial data and provides investment guidance.'}]],\n",
       " 'embeddings': None,\n",
       " 'documents': [['A mentor from Finance department, working as a Financial Analyst specializing in Investment Analysis. Analyzes financial data and provides investment guidance.']],\n",
       " 'uris': None,\n",
       " 'data': None}"
      ]
     },
     "execution_count": 38,
     "metadata": {},
     "output_type": "execute_result"
    }
   ],
   "source": [
    "result = mentor_collection.query(\n",
    "            query_texts=create_mentor_sentence(mentors[0]),\n",
    "            n_results=1,\n",
    "        )\n",
    "result"
   ]
  },
  {
   "cell_type": "code",
   "execution_count": 39,
   "metadata": {},
   "outputs": [
    {
     "data": {
      "text/plain": [
       "'1'"
      ]
     },
     "execution_count": 39,
     "metadata": {},
     "output_type": "execute_result"
    }
   ],
   "source": [
    "result['ids'][0][0]"
   ]
  },
  {
   "cell_type": "markdown",
   "metadata": {},
   "source": [
    "## Buddy"
   ]
  },
  {
   "cell_type": "code",
   "execution_count": null,
   "metadata": {},
   "outputs": [],
   "source": [
    "import pandas as pd\n",
    "\n",
    "buddies = supabase_client.table(\"buddy\").select(\"*\").execute().model_dump()['data']\n",
    "df_buddy = pd.DataFrame(buddies)\n",
    "df_buddy"
   ]
  },
  {
   "cell_type": "code",
   "execution_count": 41,
   "metadata": {},
   "outputs": [],
   "source": [
    "# Indexing to ChromaDB\n",
    "\n",
    "try:\n",
    "    buddy_collection = chroma_client.get_collection(\"buddy\")\n",
    "except:\n",
    "    buddy_collection = chroma_client.create_collection(\"buddy\")"
   ]
  },
  {
   "cell_type": "code",
   "execution_count": 42,
   "metadata": {},
   "outputs": [],
   "source": [
    "def create_buddy_sentence(buddy):\n",
    "    return f\"A buddy from {buddy['role']}, with interest in {buddy['professional_interest']} \" \\\n",
    "           f\"likes {', '.join(eval(buddy['hobby']))}. proficient in { ', '.join(eval(buddy['language']))} \" \\\n",
    "           f\"with a goal in {buddy['buddy_program_goal']}\""
   ]
  },
  {
   "cell_type": "code",
   "execution_count": 43,
   "metadata": {},
   "outputs": [
    {
     "data": {
      "text/plain": [
       "'A buddy from Management, with interest in Leadership skills likes Travel, Cooking, Sports. proficient in English with a goal in Networking'"
      ]
     },
     "execution_count": 43,
     "metadata": {},
     "output_type": "execute_result"
    }
   ],
   "source": [
    "create_buddy_sentence(buddies[0])"
   ]
  },
  {
   "cell_type": "code",
   "execution_count": null,
   "metadata": {},
   "outputs": [],
   "source": [
    "buddy_collection.add(\n",
    "    ids=[str(buddy['buddy_id']) for buddy in buddies],\n",
    "    documents=[create_buddy_sentence(buddy) for buddy in buddies],\n",
    "    metadatas=[\n",
    "        {\n",
    "            \"name\": buddy['name'],\n",
    "            \"short_desc\": buddy['short_desc'],\n",
    "            \"email\": buddy['email'],\n",
    "            \"linkedin\": buddy['linkedin'],\n",
    "            \"instagram\": buddy['instagram'],\n",
    "            \"years_of_experience\": buddy['years_of_experience'],\n",
    "            \"role\": buddy['role'],\n",
    "            \"professional_interest\": buddy['professional_interest'],\n",
    "            \"interaction_frequency\": buddy['interaction_frequency'],\n",
    "            \"hobby\": buddy['hobby'],\n",
    "            \"language\": buddy['language'],\n",
    "            \"meeting_preference\": buddy['meeting_preference'],\n",
    "            \"buddy_program_goal\": buddy['buddy_program_goal'] \n",
    "        } for buddy in buddies        \n",
    "    ]\n",
    ")"
   ]
  },
  {
   "cell_type": "code",
   "execution_count": 49,
   "metadata": {},
   "outputs": [
    {
     "data": {
      "text/plain": [
       "{'ids': ['21'],\n",
       " 'embeddings': None,\n",
       " 'metadatas': [{'buddy_program_goal': 'Cultural Integration',\n",
       "   'email': 'jonathan@ubs.com',\n",
       "   'hobby': \"['Sports & Working Out', 'Arts and Crafts']\",\n",
       "   'instagram': 'jonathan_park',\n",
       "   'interaction_frequency': 'Weekly',\n",
       "   'language': \"['Chinese', 'Cantonese']\",\n",
       "   'linkedin': 'jonathan-park',\n",
       "   'meeting_preference': 'Combination of both',\n",
       "   'name': 'Jonathan',\n",
       "   'professional_interest': 'Leadership Skills',\n",
       "   'role': 'Operations',\n",
       "   'short_desc': 'Manages frontend development and compliance',\n",
       "   'years_of_experience': 2}],\n",
       " 'documents': ['A buddy from Operations, with interest in Leadership Skills likes Sports & Working Out, Arts and Crafts. proficient in Chinese, Cantonese with a goal in Cultural Integration'],\n",
       " 'uris': None,\n",
       " 'data': None}"
      ]
     },
     "execution_count": 49,
     "metadata": {},
     "output_type": "execute_result"
    }
   ],
   "source": [
    "result = buddy_collection.get('21')\n",
    "result"
   ]
  },
  {
   "cell_type": "code",
   "execution_count": 46,
   "metadata": {},
   "outputs": [
    {
     "data": {
      "text/plain": [
       "'A buddy from Operations, with interest in Leadership Skills likes Sports & Working Out, Arts and Crafts. proficient in Chinese, Cantonese with a goal in Cultural Integration'"
      ]
     },
     "execution_count": 46,
     "metadata": {},
     "output_type": "execute_result"
    }
   ],
   "source": [
    "result['documents'][0]"
   ]
  },
  {
   "cell_type": "code",
   "execution_count": 47,
   "metadata": {},
   "outputs": [
    {
     "name": "stdout",
     "output_type": "stream",
     "text": [
      "{'ids': [['13']], 'distances': [[0.3957486788025282]], 'metadatas': [[{'buddy_program_goal': 'Providing mentorship', 'email': 'nora.quinn@ubs.com', 'hobby': '[\"Sports\", \"Technology/Gadgets\"]', 'instagram': 'noraquinn_bizdev', 'interaction_frequency': 'Weekly', 'language': '[\"English\"]', 'linkedin': 'nora-quinn-bizdev', 'meeting_preference': 'Combination of both', 'name': 'Nora Quinn', 'professional_interest': 'Leadership skills', 'role': 'Human Resources', 'short_desc': 'Explores new business opportunities.', 'years_of_experience': 1}]], 'embeddings': None, 'documents': [['A buddy from Human Resources, with interest in Leadership skills likes Sports, Technology/Gadgets. proficient in English with a goal in Providing mentorship']], 'uris': None, 'data': None}\n"
     ]
    }
   ],
   "source": [
    "query_sentence = \"A buddy from Operations, with interest in Leadership Skills likes Sports & Working Out, Arts and Crafts. proficient in Chinese, Cantonese with a goal in Cultural Integration\"\n",
    "\n",
    "result = buddy_collection.query(\n",
    "        query_texts=query_sentence,\n",
    "        n_results=1,\n",
    "        where={\n",
    "            \"$and\" : [\n",
    "                {\"years_of_experience\" : {\"$gte\" : 0}},      \n",
    "                {\"years_of_experience\" : {\"$lte\" : 4}},\n",
    "\n",
    "                {\"interaction_frequency\" : \"Weekly\"},\n",
    "\n",
    "                {\"meeting_preference\" :  \"Combination of both\"},\n",
    "\n",
    "                {\"email\" :  {\"$ne\" : \"jonathan@ubs.com\"}},\n",
    "            ]\n",
    "        }\n",
    "    )\n",
    "print(result)"
   ]
  },
  {
   "cell_type": "code",
   "execution_count": null,
   "metadata": {},
   "outputs": [],
   "source": []
  }
 ],
 "metadata": {
  "kernelspec": {
   "display_name": "Python 3.12.3 ('ubs')",
   "language": "python",
   "name": "python3"
  },
  "language_info": {
   "codemirror_mode": {
    "name": "ipython",
    "version": 3
   },
   "file_extension": ".py",
   "mimetype": "text/x-python",
   "name": "python",
   "nbconvert_exporter": "python",
   "pygments_lexer": "ipython3",
   "version": "3.1.undefined"
  },
  "vscode": {
   "interpreter": {
    "hash": "5f05182966b8586c4671e7a96ace1364dbb0fbb8459e2957f36903418af9a296"
   }
  }
 },
 "nbformat": 4,
 "nbformat_minor": 2
}
