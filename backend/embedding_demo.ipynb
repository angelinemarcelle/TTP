{
 "cells": [
  {
   "cell_type": "code",
   "execution_count": 1,
   "metadata": {},
   "outputs": [
    {
     "data": {
      "text/plain": [
       "True"
      ]
     },
     "execution_count": 1,
     "metadata": {},
     "output_type": "execute_result"
    }
   ],
   "source": [
    "from dotenv import load_dotenv \n",
    "\n",
    "load_dotenv() "
   ]
  },
  {
   "cell_type": "code",
   "execution_count": 2,
   "metadata": {},
   "outputs": [],
   "source": [
    "import chromadb\n",
    "\n",
    "chroma_client = chromadb.PersistentClient(path=\"chromadb\")"
   ]
  },
  {
   "cell_type": "code",
   "execution_count": 3,
   "metadata": {},
   "outputs": [],
   "source": [
    "import os\n",
    "from supabase import create_client, Client\n",
    "\n",
    "supabase_url = os.getenv(\"SUPABASE_URL\")\n",
    "supabase_key = os.getenv(\"SUPABASE_KEY\")\n",
    "supabase_client = create_client(supabase_url, supabase_key)"
   ]
  },
  {
   "cell_type": "markdown",
   "metadata": {},
   "source": [
    "## Recommend Article"
   ]
  },
  {
   "cell_type": "code",
   "execution_count": 4,
   "metadata": {},
   "outputs": [],
   "source": [
    "# Get user preference from database\n",
    "\n",
    "user_info = supabase_client.table(\"buddy\").select(\"preferred_topic\").eq('buddy_id', 1).execute()\n",
    "preferred_topics = user_info.model_dump()['data'][0]['preferred_topic']"
   ]
  },
  {
   "cell_type": "code",
   "execution_count": 5,
   "metadata": {},
   "outputs": [
    {
     "data": {
      "text/plain": [
       "['Finance', 'Economy', 'Environment']"
      ]
     },
     "execution_count": 5,
     "metadata": {},
     "output_type": "execute_result"
    }
   ],
   "source": [
    "preferred_topics"
   ]
  },
  {
   "cell_type": "code",
   "execution_count": 6,
   "metadata": {},
   "outputs": [],
   "source": [
    "# Vector Database\n",
    "\n",
    "article_collection = chroma_client.get_collection('article')"
   ]
  },
  {
   "cell_type": "code",
   "execution_count": 7,
   "metadata": {},
   "outputs": [
    {
     "data": {
      "text/plain": [
       "'articles about Finance, Economy, Environment'"
      ]
     },
     "execution_count": 7,
     "metadata": {},
     "output_type": "execute_result"
    }
   ],
   "source": [
    "# Construct Query Sentence\n",
    "\n",
    "query_sentences = \"articles about \" + \", \".join(preferred_topics)\n",
    "query_sentences"
   ]
  },
  {
   "cell_type": "code",
   "execution_count": 11,
   "metadata": {},
   "outputs": [
    {
     "data": {
      "text/plain": [
       "{'ids': [['15', '3', '8', '10', '11', '13', '7', '9', '12', '1']],\n",
       " 'distances': [[1.117424887351804,\n",
       "   1.1906006050282798,\n",
       "   1.2278199519740098,\n",
       "   1.252083038949792,\n",
       "   1.3121058285927636,\n",
       "   1.3160546740646786,\n",
       "   1.3556354890954916,\n",
       "   1.3605243031396395,\n",
       "   1.3888046486464483,\n",
       "   1.5320430146703148]],\n",
       " 'metadatas': [[{'category': 'Finance', 'created_date': '2024-06-05'},\n",
       "   {'category': 'Finance', 'created_date': '2024-05-25'},\n",
       "   {'category': 'Finance', 'created_date': '2024-05-29'},\n",
       "   {'category': 'Finance', 'created_date': '2024-05-31'},\n",
       "   {'category': 'Finance', 'created_date': '2024-06-01'},\n",
       "   {'category': 'Finance', 'created_date': '2024-06-03'},\n",
       "   {'category': 'Finance', 'created_date': '2024-05-28'},\n",
       "   {'category': 'Finance', 'created_date': '2024-05-30'},\n",
       "   {'category': 'Finance', 'created_date': '2024-06-02'},\n",
       "   {'category': 'Productivity', 'created_date': '2024-05-12'}]],\n",
       " 'embeddings': None,\n",
       " 'documents': [['The Future of Quantitative Trading in Finance. Exploring the growth and implications of quantitative trading in the financial markets.',\n",
       "   \"Current Market Outlook for China: Finance and Banking in 2024. China's finance and banking sectors in 2024 present a mixed landscape of regulatory tightness, digital transformation, and cautious investor sentiment amidst economic recovery and global tensions.\",\n",
       "   'Financial Literacy and Its Importance in Economic Empowerment. Discussing the critical role of financial literacy in enhancing individual economic empowerment.',\n",
       "   'The Future of Fintech Innovations. A look at how fintech is driving innovation in the financial industry and what the future may hold.',\n",
       "   'The Role of Central Banks in Economic Stability. Examining the pivotal functions of central banks in maintaining economic stability.',\n",
       "   'The Surge of ESG Investing. Analyzing the rise of Environmental, Social, and Governance (ESG) criteria in investment decisions.',\n",
       "   'The Impact of Interest Rate Changes on the Stock Market. Analyzing how alterations in interest rates influence stock market performance.',\n",
       "   'Trends in Global Wealth Management. Exploring current trends that are shaping the future of wealth management globally.',\n",
       "   'Understanding Credit Scores and Their Impact on Financial Health. Exploring the significance of credit scores and how they influence financial opportunities.',\n",
       "   \"Mastering Productivity: A Beginner's Guide. A beginner's guide to enhancing productivity by setting SMART goals, managing time with techniques like the Pomodoro and Eisenhower Matrix, fostering a growth mindset, and utilizing productivity tools.\"]],\n",
       " 'uris': None,\n",
       " 'data': None}"
      ]
     },
     "execution_count": 11,
     "metadata": {},
     "output_type": "execute_result"
    }
   ],
   "source": [
    "result = article_collection.query(\n",
    "            query_texts=query_sentences,\n",
    "            n_results=10,\n",
    "        )\n",
    "\n",
    "result"
   ]
  },
  {
   "cell_type": "markdown",
   "metadata": {},
   "source": [
    "## Recommend Mentor"
   ]
  },
  {
   "cell_type": "code",
   "execution_count": 18,
   "metadata": {},
   "outputs": [],
   "source": [
    "# Vector Database\n",
    "\n",
    "mentor_collection = chroma_client.get_collection('mentor')"
   ]
  },
  {
   "cell_type": "code",
   "execution_count": 19,
   "metadata": {},
   "outputs": [],
   "source": [
    "# Will be obtained from user survey\n",
    "\n",
    "mentor_request = \"I want a mentor that works in the Finance department and has experience in Financial Modelling\""
   ]
  },
  {
   "cell_type": "code",
   "execution_count": 22,
   "metadata": {},
   "outputs": [
    {
     "data": {
      "text/plain": [
       "{'ids': [['1']],\n",
       " 'distances': [[0.49826343705220727]],\n",
       " 'metadatas': [[{'department': 'Finance',\n",
       "    'email': 'john.doe@bank.com',\n",
       "    'name': 'John Doe',\n",
       "    'position': 'Financial Analyst',\n",
       "    'short_desc': 'Analyzes financial data and provides investment guidance.'}]],\n",
       " 'embeddings': None,\n",
       " 'documents': [['A mentor from Finance department, working as a Financial Analyst specializing in Investment Analysis. Analyzes financial data and provides investment guidance.']],\n",
       " 'uris': None,\n",
       " 'data': None}"
      ]
     },
     "execution_count": 22,
     "metadata": {},
     "output_type": "execute_result"
    }
   ],
   "source": [
    "result = mentor_collection.query(\n",
    "            query_texts=mentor_request,\n",
    "            n_results=1,\n",
    "        )\n",
    "\n",
    "result"
   ]
  },
  {
   "cell_type": "markdown",
   "metadata": {},
   "source": [
    "## Recommend Buddy"
   ]
  },
  {
   "cell_type": "code",
   "execution_count": 23,
   "metadata": {},
   "outputs": [],
   "source": [
    "# Vector Database\n",
    "\n",
    "buddy_collection = chroma_client.get_collection('buddy')"
   ]
  },
  {
   "cell_type": "code",
   "execution_count": 26,
   "metadata": {},
   "outputs": [
    {
     "data": {
      "text/plain": [
       "'A buddy from Management, with interest in Leadership skills likes Travel, Cooking, Sports. proficient in English with a goal in Networking'"
      ]
     },
     "execution_count": 26,
     "metadata": {},
     "output_type": "execute_result"
    }
   ],
   "source": [
    "# Get User Description\n",
    "\n",
    "user = buddy_collection.get(\"1\")\n",
    "user_description = user['documents'][0]\n",
    "user_description"
   ]
  },
  {
   "cell_type": "code",
   "execution_count": 28,
   "metadata": {},
   "outputs": [
    {
     "data": {
      "text/plain": [
       "{'ids': [['9']],\n",
       " 'distances': [[0.17552574951341257]],\n",
       " 'metadatas': [[{'buddy_program_goal': 'Providing mentorship',\n",
       "    'email': 'isabella.foster@ubs.com',\n",
       "    'hobby': '[\"Sports\", \"Cooking\"]',\n",
       "    'instagram': 'isabella_foster_legal',\n",
       "    'interaction_frequency': 'Weekly',\n",
       "    'language': '[\"English\"]',\n",
       "    'linkedin': 'isabella-foster-legal',\n",
       "    'meeting_preference': 'Combination of both',\n",
       "    'name': 'Isabella Foster',\n",
       "    'professional_interest': 'Project management',\n",
       "    'role': 'Technology',\n",
       "    'short_desc': 'Provides legal advice and representation.',\n",
       "    'years_of_experience': 11}]],\n",
       " 'embeddings': None,\n",
       " 'documents': [['A buddy from Technology, with interest in Project management likes Sports, Cooking. proficient in English with a goal in Providing mentorship']],\n",
       " 'uris': None,\n",
       " 'data': None}"
      ]
     },
     "execution_count": 28,
     "metadata": {},
     "output_type": "execute_result"
    }
   ],
   "source": [
    "# Get the buddy with the most similar description\n",
    "\n",
    "result = buddy_collection.query(\n",
    "        query_texts=user_description, # Use the user_description as the query text\n",
    "        n_results=1,\n",
    "        where={\n",
    "            \"$and\" : [\n",
    "                {\"years_of_experience\" : {\"$gte\" : user['metadatas'][0]['years_of_experience'] - 2}},      \n",
    "                {\"years_of_experience\" : {\"$lte\" : user['metadatas'][0]['years_of_experience'] + 2}},\n",
    "\n",
    "                {\"interaction_frequency\" : user['metadatas'][0]['interaction_frequency']},\n",
    "\n",
    "                {\"meeting_preference\" :  user['metadatas'][0]['meeting_preference']},\n",
    "\n",
    "                {\"email\" :  {\"$ne\" : user['metadatas'][0]['email']}},\n",
    "            ]\n",
    "        }\n",
    "    )\n",
    "\n",
    "result"
   ]
  },
  {
   "cell_type": "code",
   "execution_count": null,
   "metadata": {},
   "outputs": [],
   "source": []
  }
 ],
 "metadata": {
  "kernelspec": {
   "display_name": "ubs",
   "language": "python",
   "name": "python3"
  },
  "language_info": {
   "codemirror_mode": {
    "name": "ipython",
    "version": 3
   },
   "file_extension": ".py",
   "mimetype": "text/x-python",
   "name": "python",
   "nbconvert_exporter": "python",
   "pygments_lexer": "ipython3",
   "version": "3.12.3"
  }
 },
 "nbformat": 4,
 "nbformat_minor": 2
}
