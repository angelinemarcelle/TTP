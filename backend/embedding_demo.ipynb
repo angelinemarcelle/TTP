{
 "cells": [
  {
   "cell_type": "code",
   "execution_count": 1,
   "metadata": {},
   "outputs": [
    {
     "data": {
      "text/plain": [
       "True"
      ]
     },
     "execution_count": 1,
     "metadata": {},
     "output_type": "execute_result"
    }
   ],
   "source": [
    "from dotenv import load_dotenv \n",
    "\n",
    "load_dotenv() "
   ]
  },
  {
   "cell_type": "code",
   "execution_count": null,
   "metadata": {},
   "outputs": [],
   "source": [
    "import chromadb\n",
    "\n",
    "chroma_client = chromadb.PersistentClient(path=\"chromadb\")"
   ]
  },
  {
   "cell_type": "code",
   "execution_count": null,
   "metadata": {},
   "outputs": [],
   "source": [
    "import os\n",
    "from supabase import create_client, Client\n",
    "\n",
    "supabase_url = os.getenv(\"SUPABASE_URL\")\n",
    "supabase_key = os.getenv(\"SUPABASE_KEY\")\n",
    "supabase_client = create_client(supabase_url, supabase_key)"
   ]
  },
  {
   "cell_type": "markdown",
   "metadata": {},
   "source": [
    "## Recommend Article"
   ]
  },
  {
   "cell_type": "code",
   "execution_count": null,
   "metadata": {},
   "outputs": [],
   "source": [
    "# Get user preference from database\n",
    "\n",
    "user_info = supabase_client.table(\"buddy\").select(\"preferred_topic\").eq('buddy_id', 1).execute()\n",
    "preferred_topics = user_info.model_dump()['data'][0]['preferred_topic']"
   ]
  },
  {
   "cell_type": "code",
   "execution_count": null,
   "metadata": {},
   "outputs": [
    {
     "data": {
      "text/plain": [
       "['Finance', 'Economy', 'Environment']"
      ]
     },
     "execution_count": 5,
     "metadata": {},
     "output_type": "execute_result"
    }
   ],
   "source": [
    "preferred_topics"
   ]
  },
  {
   "cell_type": "code",
   "execution_count": null,
   "metadata": {},
   "outputs": [],
   "source": [
    "# Vector Database\n",
    "\n",
    "article_collection = chroma_client.get_collection('article')"
   ]
  },
  {
   "cell_type": "code",
   "execution_count": null,
   "metadata": {},
   "outputs": [
    {
     "data": {
      "text/plain": [
       "'articles about Finance, Economy, Environment'"
      ]
     },
     "execution_count": 7,
     "metadata": {},
     "output_type": "execute_result"
    }
   ],
   "source": [
    "# Construct Query Sentence\n",
    "\n",
    "query_sentences = \"articles about \" + \", \".join(preferred_topics)\n",
    "query_sentences"
   ]
  },
  {
   "cell_type": "code",
   "execution_count": null,
   "metadata": {},
   "outputs": [],
   "source": [
    "result = article_collection.query(\n",
    "            query_texts=query_sentences,\n",
    "            n_results=10,\n",
    "        )\n",
    "\n",
    "result"
   ]
  },
  {
   "cell_type": "markdown",
   "metadata": {},
   "source": [
    "## Recommend Buddy"
   ]
  },
  {
   "cell_type": "code",
   "execution_count": null,
   "metadata": {},
   "outputs": [],
   "source": [
    "# Vector Database\n",
    "\n",
    "buddy_collection = chroma_client.get_collection('buddy')"
   ]
  },
  {
   "cell_type": "code",
   "execution_count": null,
   "metadata": {},
   "outputs": [],
   "source": [
    "# Get User Description\n",
    "\n",
    "user = buddy_collection.get(\"1\")\n",
    "user_description = user['documents'][0]\n",
    "user_description"
   ]
  },
  {
   "cell_type": "code",
   "execution_count": null,
   "metadata": {},
   "outputs": [],
   "source": [
    "def create_buddy_sentence(buddy):\n",
    "    return f\"A buddy from {buddy['role']}, with interest in {buddy['professional_interest']} \" \\\n",
    "           f\"likes {', '.join(eval(buddy['hobby']))}. proficient in { ', '.join(eval(buddy['language']))} \" \\\n",
    "           f\"with a goal in {buddy['buddy_program_goal']}\""
   ]
  },
  {
   "cell_type": "code",
   "execution_count": null,
   "metadata": {},
   "outputs": [],
   "source": [
    "# Get the buddy with the most similar description\n",
    "\n",
    "result = buddy_collection.query(\n",
    "        query_texts=user_description, # Use the user_description as the query text\n",
    "        n_results=1,\n",
    "        where={\n",
    "            \"$and\" : [\n",
    "                {\"years_of_experience\" : {\"$gte\" : user['metadatas'][0]['years_of_experience'] - 2}},      \n",
    "                {\"years_of_experience\" : {\"$lte\" : user['metadatas'][0]['years_of_experience'] + 2}},\n",
    "\n",
    "                {\"interaction_frequency\" : user['metadatas'][0]['interaction_frequency']},\n",
    "\n",
    "                {\"meeting_preference\" :  user['metadatas'][0]['meeting_preference']},\n",
    "\n",
    "                {\"email\" :  {\"$ne\" : user['metadatas'][0]['email']}},\n",
    "            ]\n",
    "        }\n",
    "    )\n",
    "\n",
    "result"
   ]
  },
  {
   "cell_type": "markdown",
   "metadata": {},
   "source": [
    "## Recommend Mentor"
   ]
  },
  {
   "cell_type": "code",
   "execution_count": null,
   "metadata": {},
   "outputs": [],
   "source": [
    "# Vector Database\n",
    "\n",
    "mentor_collection = chroma_client.get_collection('mentor')"
   ]
  },
  {
   "cell_type": "code",
   "execution_count": null,
   "metadata": {},
   "outputs": [],
   "source": [
    "def create_mentor_sentence(mentor):\n",
    "    return f\"A mentor from {mentor['department']} department, working as a {mentor['position']} \" \\\n",
    "           f\"specializing in {mentor['specialization']}. {mentor['short_desc']}\""
   ]
  },
  {
   "cell_type": "code",
   "execution_count": null,
   "metadata": {},
   "outputs": [],
   "source": [
    "# Will be obtained from user survey\n",
    "\n",
    "mentor_request = \"I want a mentor that works in the Finance department and has experience in Financial Modelling\""
   ]
  },
  {
   "cell_type": "code",
   "execution_count": null,
   "metadata": {},
   "outputs": [],
   "source": [
    "result = mentor_collection.query(\n",
    "            query_texts=mentor_request,\n",
    "            n_results=1,\n",
    "        )\n",
    "\n",
    "result"
   ]
  },
  {
   "cell_type": "code",
   "execution_count": null,
   "metadata": {},
   "outputs": [],
   "source": []
  }
 ],
 "metadata": {
  "kernelspec": {
   "display_name": "Python 3.9.13 ('base')",
   "language": "python",
   "name": "python3"
  },
  "language_info": {
   "codemirror_mode": {
    "name": "ipython",
    "version": 3
   },
   "file_extension": ".py",
   "mimetype": "text/x-python",
   "name": "python",
   "nbconvert_exporter": "python",
   "pygments_lexer": "ipython3",
   "version": "3.9.13"
  },
  "vscode": {
   "interpreter": {
    "hash": "47fc7c2c31852b94ac0e3ba3de6acc30a7c92c3d565f7b1b901a76c457a7cf77"
   }
  }
 },
 "nbformat": 4,
 "nbformat_minor": 2
}
